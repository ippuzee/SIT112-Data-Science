{
 "cells": [
  {
   "cell_type": "markdown",
   "id": "66f183bd-af75-4f95-b2dc-b9106bafebeb",
   "metadata": {
    "tags": []
   },
   "source": [
    "# **Task HD1** (Due May 22, 11 AM)\n",
    "## Analyzing YouTube Video Data from News Publishers\n",
    "\n",
    "##### This task focuses on analyzing YouTube videos about a news topic (e.g., Covid-19) published by at least 4 English news publishers (e.g., BBC, Fox News, ...) from a start date to an end date. You will need to specify the news topic and the list of keywords to search for the videos about that topic on YouTube. Also, you will need to extract the channel IDs of the news publishers using the function get_channel_info() given to you in the attached \"collect.ipynb\" file. All settings need to be specified in Section B (Settings) of \"collect.ipynb\" and also copied into Section B (Settings) of this jupyter notebook (HD1.ipynb). Please note the terms \"News Publisher\" and \"Cahnnel\" have been used interchangably in this task (each news publisher has a channel - if a news publisher has more than one channels on YouTube, pick any and state that in your TaskCompletionReport). The following instructions convey important information about the task. Please **read them carefully** and complete the task. If you need any clarification please    \n",
    "<img src=\"youtube.png\" alt=\"SIT112 Avocado!\" width=\"1800\" height=\"200\">"
   ]
  },
  {
   "cell_type": "markdown",
   "id": "23b0be18-0cf2-48c9-81f3-e6e1b193401a",
   "metadata": {
    "tags": []
   },
   "source": [
    "### A. Instructions\n",
    "\n",
    "#### Attachments\n",
    "* directions.pdf\n",
    "* collect.ipynb\n",
    "* credentials-sample.ini\n",
    "* video-presentation-guideline.pdf\n",
    "\n",
    "#### Get Started \n",
    "0. Please watch [this video](https://www.youtube.com/watch?v=N9CT6Ggh0oE) about Sentiment Analysis.\n",
    "1. Rename the \"credentials-sample.ini\" file to \"credentials.ini\" and follow the instructions. \n",
    "2. Creat your YouTube API key and assign it to developer_key in the credentials.ini file. You will need the YouTube API key to get access to the YouTube API (collect the data). See the following video: https://youtu.be/N18czV5tj5o (the video is not up to date; the instrucitons might be sighly different. You can view the following link for more details: https://developers.google.com/youtube/v3/getting-started). Please note Projects that enable the YouTube Data API have a default quota allocation of 10,000 units per day; to make an efficient use of your quota, please avoid multiple excecutions of the \"collect.ipynb\" file: https://developers.google.com/youtube/v3/guides/quota_and_compliance_audits. \n",
    "3. To work with the YouTube API (send queries), you need to install Google API Python Client using: \"conda install google-api-python-client\" \n",
    "#### Specify the news topic and news publishers (channels)\n",
    "4. Choose a news topic (e.g., Covid-19) and a list of keywords to be used for finding videos about that topic. You can extract the keywords by looking at some sample video titles. \n",
    "5. Choose at least 4 popular English news publishers (e.g., BBC, Fox News).\n",
    "6. Extract, manually, the video IDs of sample videos from different news publishers (channels). You can do so by clicking on the share button for each video. \n",
    "7. Extract the Channel IDs of the videos using the get_channel_info() function in collect.ipynb \n",
    "#### Collect the Videos and Comments using \"collect.ipynb\" \n",
    "8. Specify the Channel IDs and names in the Settings section of the attached collect.ipynb file (CHANNELS = {...})\n",
    "9. Specify the list keywords in the Settings section of the attached collect.ipynb file (KEYWORDS = [...])\n",
    "10. Specify the START_DATE and END_DATE in the Settings section of the attached collect.ipynb file\n",
    "11. Specify the MAX_VIDEOS such that you can extract **at least 20 videos per news publisher (channel)**. Make sure for your specified topic, **at least 300 comments per news publisher (channel)** can be collected. Please note some publishers might have disabled comments.\n",
    "12. Please **do not make any changes to the \"collect.ipynb\" file**\n",
    "13. Execute the collect.ipynb file to collect the videos (will be stored in videos.csv) and the comments on those videos (will be stored in comments.csv).\n",
    "#### Complete the Task\n",
    "14. <font color='red'> Choose only 1 question from Section E</font>, and answer it based on the hints. Please note, for each question, you must **briefly discuss your observations** based on the results.\n",
    "15. Please note **there is no unique solution** for most questions; if you need to make any assumptions, **state your assumptions** in the comments and in your TaskCompletionReport and answer the question accordingly. Please also note, **if something has not been clearly stated in a question (e.g., the type of visualization, etc) it means you are allowed to make your own choice**. \n",
    "16. **Read the attached \"video-presentation-guideline.pdf\"** carefully and record a video clip (based on video-presentation-guideline.pdf) that presents your completed task. Upload the video on a video repository such as YouTube (or any other preferred repository) and provide the link in the TaskCompletionReport. \n",
    "17. Complete the TaskCompletionReport form.\n",
    "\n",
    "#### Submit the Task\n",
    "18. Please make sure you have copied the settings from collect.ipynb into your solution file (HD1.ipynb), under section B (settings).  \n",
    "19. Please make sure you have executed and saved all the cells in your jupyter notebook without any error; otherwise, your submission may not be flagged as complete. \n",
    "20. Please make sure you have included the link to the dataset(s) in your TaskCompletionReport.\n",
    "21. Please make sure you have included the link to the video rcording of your presentation in your TaskCompletionReport. \n",
    "22. Submit (1) the TaskCompletionReport as a \"PDF\" file and (2) your solution file (HD1.ipynb) as an \"ipynb\" file (do not zip/combine them). Please do not include \"collect.ipynb\" in your submission. \n",
    "\n",
    "#### <font color ='red'>Attend the Interview </font>\n",
    "23. Please attend your interview - on week 11 - during the workshop you are enrolled in. \n",
    "24. Please make sure you have submitted your task via OnTrack before the interview; you can still resubmit by the end of Week 12 if any changes are needed. \n",
    "25. During the interview, you will be asked questions about your submission and might be directed to make changes to your code and explain their impacts on the results/observations. \n",
    "\n",
    "Good luck :)"
   ]
  },
  {
   "cell_type": "markdown",
   "id": "d64fbdfe-6943-4132-9bdd-5c9767134c9e",
   "metadata": {},
   "source": [
    "### B. Settings\n",
    "Copy your settings from Section B of the \"collect.ipynb\" file below (as Python comments)."
   ]
  },
  {
   "cell_type": "code",
   "execution_count": 8,
   "id": "872d8a66-4330-40fc-bac7-992bba510182",
   "metadata": {},
   "outputs": [],
   "source": [
    "VIDEOS_FILE = \"videos.csv\"\n",
    "COMMENTS_FILE = \"comments.csv\"\n",
    "CREDENTIALS_FILE = 'credentials.ini'\n",
    "START_DATE = datetime(2020, 1, 1)\n",
    "END_DATE = datetime(2023, 1, 1)\n",
    "KEYWORDS =['coronavirus', 'covid', 'covid-19', 'pandemic']\n",
    "# You can use functin get_channel_info() to extract the channel ID of a sample video from a news publisher ...\n",
    "CHANNELS = {\n",
    "    'UCXIJgqnII2ZOINSWNOGFThA' : 'Fox News',\n",
    "    'UC16niRr50-MSBwiO3YDb3RA' : 'BBC News',\n",
    "    'UCupvZG-5ko_eiXAupbDfxWw' : 'CNN',\n",
    "    'UCaXkIU1QidjPwiAYu6GcHjg' : 'MSNBC'\n",
    "}\n",
    "MAX_VIDEOS = 50 # the maximum number of video that should be returned for each request. Acceptable values are 0 to 50\n",
    "QUERY= f\"intitle:{','.join(KEYWORDS)}\""
   ]
  },
  {
   "cell_type": "markdown",
   "id": "45865861-25c8-4cb6-99a2-832aace9d65d",
   "metadata": {
    "tags": []
   },
   "source": [
    "### C. Imports\n",
    "You need to import the following libraries. Install the libraries using \"conda install ... or pip install ...\" if they have not been installed on your machine. For example you can install google api python client by executing \"conda install google-api-python-client\""
   ]
  },
  {
   "cell_type": "code",
   "execution_count": 7,
   "id": "14131785-ec21-4364-96fc-7d930999ba5f",
   "metadata": {
    "tags": []
   },
   "outputs": [
    {
     "name": "stderr",
     "output_type": "stream",
     "text": [
      "[nltk_data] Downloading package stopwords to /home/ipiot/nltk_data...\n",
      "[nltk_data]   Package stopwords is already up-to-date!\n"
     ]
    }
   ],
   "source": [
    "import pandas as pd\n",
    "import seaborn as sns\n",
    "import matplotlib.pyplot as plt\n",
    "from googleapiclient.discovery import build\n",
    "from googleapiclient.errors import HttpError\n",
    "from datetime import datetime\n",
    "import os\n",
    "from configparser import ConfigParser\n",
    "import re\n",
    "import nltk\n",
    "nltk.download('stopwords')\n",
    "from nltk.corpus import stopwords\n",
    "from langdetect import detect\n",
    "import langdetect\n",
    "from textblob import TextBlob\n",
    "import calendar\n",
    "import matplotlib.dates as mdates\n",
    "from matplotlib.dates import DateFormatter\n",
    "from textblob import TextBlob\n",
    "from prettytable import PrettyTable\n",
    "from datetime import datetime\n",
    "from tabulate import tabulate\n",
    "import numpy as np\n",
    "from collections import defaultdict\n",
    "import warnings\n",
    "#from pandas.core.common import SettingWithCopyWarning\n",
    "from nltk.stem import WordNetLemmatizer\n",
    "# Ignore the warning\n",
    "import warnings\n",
    "warnings.simplefilter(action='ignore', category=FutureWarning)"
   ]
  },
  {
   "cell_type": "markdown",
   "id": "1dacb47b-bc27-4224-bbdb-d6fe960387ba",
   "metadata": {
    "tags": []
   },
   "source": [
    "### D. Clean and Prepare the Data"
   ]
  },
  {
   "cell_type": "markdown",
   "id": "53640a66-446e-470c-9b7d-928367dcfee3",
   "metadata": {},
   "source": [
    "##### D.1. Write Python code that cleans the data for analyzing the videos and comments."
   ]
  },
  {
   "cell_type": "code",
   "execution_count": 13,
   "id": "4282dba5-9feb-4860-be39-efac070d9827",
   "metadata": {},
   "outputs": [],
   "source": [
    "# a basic data cleaning has been performed on the collected data by the clean_data()function in collect.ipynb\n",
    "# a basic data cleaning has been performed on the collected data by the clean_data()function in collect.ipynb\n",
    "def clean_data(VIDEOS_FILE, COMMENTS_FILE, stopwords):\n",
    "    # Load videos data\n",
    "    videos = pd.read_csv(VIDEOS_FILE)\n",
    "\n",
    "    # Clean videos data\n",
    "    videos['video_title'] = videos['video_title'].apply(lambda x: re.sub(r'[^\\w\\s]', '', x) if isinstance(x, str) else x) # remove punctuation\n",
    "    videos['video_title'] = videos['video_title'].apply(lambda x: re.sub(r'\\d+', '', x) if isinstance(x, str) else x) # remove digits\n",
    "    videos['video_title'] = videos['video_title'].apply(lambda x: x.lower() if isinstance(x, str) else x) # convert to lowercase\n",
    "\n",
    "    # Save cleaned videos data to new CSV file, replacing the existing file\n",
    "    videos.to_csv(VIDEOS_FILE, index=False)\n",
    "\n",
    "    # Load comments data\n",
    "    comments = pd.read_csv(COMMENTS_FILE)\n",
    "\n",
    "    # Clean comments data\n",
    "    comments['comment_text'] = comments['comment_text'].apply(lambda x: re.sub(r'[^\\w\\s]', '', x) if isinstance(x, str) else x)  # remove punctuation\n",
    "    comments['comment_text'] = comments['comment_text'].apply(lambda x: re.sub(r'\\d+', '', x) if isinstance(x, str) else x)  # remove digits\n",
    "    comments['comment_text'] = comments['comment_text'].apply(lambda x: x.lower() if isinstance(x, str) else x)  # convert to lowercase\n",
    "\n",
    "    # Remove duplicates\n",
    "    comments = comments.drop_duplicates()\n",
    "\n",
    "    # Remove rows with missing comment_text\n",
    "    comments = comments.dropna(subset=['comment_text'])\n",
    "\n",
    "    # Filter out comments that are not in English\n",
    "    try:\n",
    "        comments = comments[comments['comment_text'].apply(lambda x: langdetect.detect(x) == 'en')]\n",
    "    except langdetect.LangDetectException as e:\n",
    "        print(f\"non-english comment skipped ... {e}\")\n",
    "    # Stopword removal\n",
    "    stop_words = set(stopwords.words('english'))\n",
    "    comments['comment_text'] = comments['comment_text'].apply(lambda x: ' '.join([word for word in x.split() if word not in stop_words]))\n",
    "\n",
    "    # Save cleaned comments data to new CSV file, replacing the existing file\n",
    "    comments.to_csv(COMMENTS_FILE, index=False)\n",
    "# additionl data cleaning can be added here - if needed \n",
    "comments_df['comment_text'] = comments_df['comment_text'].astype('string')\n",
    "# additionl data cleaning can be added here - if needed  "
   ]
  },
  {
   "cell_type": "markdown",
   "id": "46b1bded-bb84-42ab-b9af-b0b73bfaed62",
   "metadata": {},
   "source": [
    "##### D.2. Write Python code that prepares the data for analyzing the videos and comments."
   ]
  },
  {
   "cell_type": "code",
   "execution_count": 12,
   "id": "d7a461d1",
   "metadata": {
    "tags": []
   },
   "outputs": [],
   "source": [
    "# A sample code for data preparation has been given below. Feel free to edit when needed\n",
    "\n",
    "# Load the videos and comments dataframes from their respective CSV files\n",
    "videos_df = pd.read_csv('videos.csv')\n",
    "comments_df = pd.read_csv('comments.csv')\n",
    "\n",
    "# Convert the published_at column to a datetime object for videos_df\n",
    "videos_df['published_at'] = pd.to_datetime(videos_df['published_at'], format='%Y-%m-%dT%H:%M:%SZ')\n",
    "\n",
    "# Create a new column that contains the published_at weekly\n",
    "videos_df['published_at_week'] = videos_df['published_at'].dt.strftime('%Y-%m-%W')\n",
    "\n",
    "# Create a new column that contains the published_at monthly\n",
    "videos_df['published_at_month'] = videos_df['published_at'].dt.strftime('%Y-%m')\n",
    "\n",
    "# Create a new column that contains the published_at monthly\n",
    "videos_df['published_at_year'] = videos_df['published_at'].dt.strftime('%Y')\n",
    "\n",
    "# Convert the published_at column to a datetime object for comments_df\n",
    "comments_df['comment_date'] = pd.to_datetime(comments_df['comment_date'], format='%Y-%m-%dT%H:%M:%SZ')\n",
    "\n",
    "# Create a new column that contains the published_at weekly\n",
    "comments_df['comment_date_week'] = comments_df['comment_date'].dt.strftime('%Y-%m-%W')\n",
    "\n",
    "# Create a new column that contains the published_at monthly\n",
    "comments_df['comment_date_month'] = comments_df['comment_date'].dt.strftime('%Y-%m')\n",
    "\n",
    "# Create a new column that contains the published_at monthly\n",
    "comments_df['comment_date_year'] = comments_df['comment_date'].dt.strftime('%Y')\n",
    "\n",
    "# Convert the duration column to seconds for videos_df\n",
    "videos_df['duration'] = videos_df['duration'].apply(lambda x: re.findall(r'PT(\\d+)M(\\d+)S', x))\n",
    "videos_df['duration'] = videos_df['duration'].apply(lambda x: int(x[0][0]) * 60 + int(x[0][1]) if len(x) > 0 else 0)\n",
    "\n",
    "# Prepared DataFrame objects; can be used for data analysis\n",
    "videos = videos_df\n",
    "comments = comments_df\n",
    "videos_comments = pd.merge(videos,comments, on='video_id', how = 'inner') # merged videos and comments"
   ]
  },
  {
   "cell_type": "markdown",
   "id": "c8418457-73df-4e6d-9bcc-39fa6fb65f35",
   "metadata": {},
   "source": [
    "##### D.3. Write Python code that takes a text input and returns its sentiment (polarity) score and sentiment category (positive, negative, neutral)"
   ]
  },
  {
   "cell_type": "code",
   "execution_count": 14,
   "id": "095ea2c6-0672-4073-ba6e-381d02e082e3",
   "metadata": {
    "tags": []
   },
   "outputs": [],
   "source": [
    "# This function takes a text input and returns its sentiment (polarity) score\n",
    "# If the text is null, it returns 0\n",
    "def get_sentiment_score(text):\n",
    "    if pd.isnull(text):\n",
    "        return 0\n",
    "    else:\n",
    "        return TextBlob(text).sentiment.polarity\n",
    "    \n",
    "# This function takes a text input and returns its sentiment category\n",
    "# If the text is null, it returns 'neutral'\n",
    "# If the polarity score is greater than 0, it returns 'positive'\n",
    "# If the polarity score is less than 0, it returns 'negative'\n",
    "# Otherwise, it returns 'neutral'\n",
    "def get_sentiment(text):\n",
    "    if pd.isnull(text):\n",
    "        return 'neutral'\n",
    "    else:\n",
    "        blob = TextBlob(text)\n",
    "        if blob.sentiment.polarity > 0:\n",
    "            return 'positive'\n",
    "        elif blob.sentiment.polarity < 0:\n",
    "            return 'negative'\n",
    "        else:\n",
    "            return 'neutral'"
   ]
  },
  {
   "cell_type": "markdown",
   "id": "c138ac16-493b-41f2-8493-a4a598b2e5f4",
   "metadata": {
    "tags": []
   },
   "source": [
    "### E. Analyze the Videos and Comments\n",
    "* Please make sure you have watched [this video](https://www.youtube.com/watch?v=N9CT6Ggh0oE) and understood the concept of Sentiment Analysis.\n",
    "* Choose <font color ='red'>(only) 1 </font> of the following questions and write Python code to answer it. \n",
    "* Please note you must (briefly) discuss your observations. \n",
    "* Use function get_sentiment_score() to identify the sentiment (polarity) score of the video titles or comments.\n",
    "* Use function get_sentiment() to identify the sentiment categories (positive, negative, neutral) of the video titles or comments.\n",
    "* Please note the comments are provided to partially guide you; you are not required to strictly follow them. \n"
   ]
  },
  {
   "cell_type": "markdown",
   "id": "e06674d3-d1ac-4541-9e63-78f12f3f0046",
   "metadata": {},
   "source": [
    "##### E.1. What is the monthly distribution of the positive, negative, and neutral sentiments in the video titles and comments from Jan 2020 to Jan 2021? Use visualization to answer this question for different news publishers (channels) and discuss your observations. "
   ]
  },
  {
   "cell_type": "code",
   "execution_count": 25,
   "id": "0eccce21-34b6-40df-aeef-8868ecff48db",
   "metadata": {
    "tags": []
   },
   "outputs": [
    {
     "data": {
      "image/png": "[encoded data removed]",
      "text/plain": [
       "<Figure size 1000x600 with 1 Axes>"
      ]
     },
     "metadata": {},
     "output_type": "display_data"
    },
    {
     "data": {
      "image/png": "[encoded data removed]",
      "text/plain": [
       "<Figure size 1000x600 with 1 Axes>"
      ]
     },
     "metadata": {},
     "output_type": "display_data"
    }
   ],
   "source": [
    "# Read the CSV files\n",
    "videos = pd.read_csv('videos.csv')\n",
    "comments = pd.read_csv('comments.csv')\n",
    "\n",
    "# Convert date columns to datetime\n",
    "videos['published_at'] = pd.to_datetime(videos['published_at'])\n",
    "comments['comment_date'] = pd.to_datetime(comments['comment_date']).dt.tz_localize(None)  # Remove timezone information\n",
    "\n",
    "# Extract year and month\n",
    "videos['published_at_year'] = videos['published_at'].dt.year\n",
    "videos['published_at_month'] = videos['published_at'].dt.month\n",
    "\n",
    "comments['comment_date_year'] = comments['comment_date'].dt.year\n",
    "comments['comment_date_month'] = comments['comment_date'].dt.month\n",
    "\n",
    "# Define date range for comment analysis\n",
    "start_date = datetime(2020, 1, 1)\n",
    "end_date = datetime(2021, 1, 31)\n",
    "\n",
    "# Function to classify sentiment\n",
    "def get_sentiment(text):\n",
    "    if pd.isnull(text):  # Check if the value is NaN\n",
    "        text = \"\"\n",
    "    analysis = TextBlob(str(text))  # Convert the value to a string\n",
    "    polarity = analysis.sentiment.polarity\n",
    "\n",
    "    if polarity > 0.05:\n",
    "        return 'positive'\n",
    "    elif polarity < -0.05:\n",
    "        return 'negative'\n",
    "    else:\n",
    "        return 'neutral'\n",
    "\n",
    "# Apply sentiment classification to titles and comments\n",
    "videos['title_sentiment'] = videos['video_title'].apply(get_sentiment)\n",
    "comments['comment_sentiment'] = comments['comment_text'].apply(get_sentiment)\n",
    "\n",
    "# Aggregate by month and sentiment\n",
    "senti_dist = videos.groupby(['published_at_month', 'title_sentiment']).size().reset_index(name='count')\n",
    "senti_dist_comments = comments[(comments['comment_date'] >= start_date) & (comments['comment_date'] <= end_date)].groupby(['comment_date_month', 'comment_sentiment']).size().reset_index(name='count')\n",
    "\n",
    "# Plotting\n",
    "plt.figure(figsize=(10, 6))\n",
    "sns.barplot(x=\"published_at_month\", y=\"count\", hue=\"title_sentiment\", data=senti_dist, order=range(1, 13))\n",
    "plt.xlabel(\"Month\")\n",
    "plt.ylabel(\"Count\")\n",
    "plt.title(\"Title Sentiment Distribution\")\n",
    "plt.legend(title=\"Sentiment\")\n",
    "plt.show()\n",
    "\n",
    "plt.figure(figsize=(10, 6))\n",
    "sns.barplot(x=\"comment_date_month\", y=\"count\", hue=\"comment_sentiment\", data=senti_dist_comments, order=range(1, 13))\n",
    "plt.xlabel(\"Month\")\n",
    "plt.ylabel(\"Count\")\n",
    "plt.title(\"Comment Sentiment Distribution\")\n",
    "plt.legend(title=\"Sentiment\")\n",
    "plt.show()\n"
   ]
  },
  {
   "cell_type": "raw",
   "id": "fdf543fc-b547-475e-8e40-38477442c230",
   "metadata": {},
   "source": [
    "# Briefly, discuss your observations here.\n",
    "\n",
    "Observation 1: This shows the monthly distribution of the positive, negative, and neutral sentiments in the video titles and comments from Jan 2020 to Jan 2021.\n",
    "\n",
    "Observation 2:The number of comments is the highest in March and the lowest in Sepetember. The number of titles is the highest in March and the lowest in August. The sentiment of comments is mostly negative, while the sentiment of titles is mostly neutral."
   ]
  },
  {
   "cell_type": "markdown",
   "id": "49a0a93b-b347-4152-8743-f54042ddc7c0",
   "metadata": {},
   "source": [
    "##### E.2. Use regression analysis with visualization to test the following hypothesises:\n",
    "\n",
    "* H1: There is a meaningful relationship between the sentiment of a video title and the sentiments of its corresponding comments.  \n",
    "* H2: There is a meaningful relationship between the video likes and the sentiments of its corresponding comments.\n",
    "* H3: There is a meaningful relationship between the duration of a video and the sentiments of its corresponding comments."
   ]
  },
  {
   "cell_type": "code",
   "execution_count": 7,
   "id": "76fa2d52-88e1-4863-b0de-61121dd49abf",
   "metadata": {
    "tags": []
   },
   "outputs": [],
   "source": [
    "# load the data\n",
    "\n",
    "# apply the get_sentiment_score and get_sentiment functions to the video titles to get the sentiment scores and sentiment categories respectively\n",
    "\n",
    "# apply the get_sentiment_score and get_sentiment functions to the comments to get the sentiment scores and sentiment categories respectively\n",
    "\n",
    "# create subplots for each plot\n",
    "\n",
    "# group the comments by video and calculate the average sentiment score of comments and sentiment score for each video title\n",
    "# plot the first subplot\n",
    "\n",
    "# group the comments by video and calculate the average sentiment score and number of likes for each video\n",
    "# plot the second subplot\n",
    "\n",
    "# group the comments by video and calculate the average sentiment score and duration for each video\n",
    "# plot the third subplot\n",
    "\n",
    "# ...\n"
   ]
  },
  {
   "cell_type": "raw",
   "id": "8c52df7f-05ef-46ce-9e6d-b8a48871b84c",
   "metadata": {},
   "source": [
    "# Briefly, discuss your observations here.\n",
    "\n",
    "Observation 1: \n",
    "\n",
    "Observation 2:\n",
    "\n",
    "..."
   ]
  },
  {
   "cell_type": "markdown",
   "id": "9f12fd57-3d2d-4ab3-b471-a15635b6c608",
   "metadata": {},
   "source": [
    "##### E.3. Check if the following hypothesis is true: Video titles that contain certain words are more likely to elicit certain sentiments in the comments. Use visualization and discuss your observations. Use function get_sentiment_score().\n",
    "\n",
    "Approach: Use natural language processing (NLP) techniques to clean the video titles and count the occurrence of words in them. Group the video titles by their associated sentiment categories (positive, negative, neautral) and filter out words that are frequent across all sentiment categories. You can visualize the relationship between sentiment and word prevalence by creating word clouds for each sentiment category.\n"
   ]
  },
  {
   "cell_type": "code",
   "execution_count": 8,
   "id": "e44334ca-231b-4ae4-81a7-84d0e0d46a32",
   "metadata": {
    "tags": []
   },
   "outputs": [],
   "source": [
    "# This question is slightly more challenging than E.1 and E.2 (please note you are required to asnwer only one of the questions)\n"
   ]
  },
  {
   "cell_type": "markdown",
   "id": "fa92b9ba-4633-47f7-a151-c60cfbe217a6",
   "metadata": {},
   "source": [
    "# Briefly, discuss your observations here.\n",
    "\n",
    "Observation 1: \n",
    "\n",
    "Observation 2:\n",
    "\n",
    "..."
   ]
  }
 ],
 "metadata": {
  "kernelspec": {
   "display_name": "Python 3 (ipykernel)",
   "language": "python",
   "name": "python3"
  },
  "language_info": {
   "codemirror_mode": {
    "name": "ipython",
    "version": 3
   },
   "file_extension": ".py",
   "mimetype": "text/x-python",
   "name": "python",
   "nbconvert_exporter": "python",
   "pygments_lexer": "ipython3",
   "version": "3.11.5"
  },
  "vscode": {
   "interpreter": {
    "hash": "2920b276a3ebce4ce72dc8ffba4d2570b82a96386913ad33f11b89ba088715fe"
   }
  }
 },
 "nbformat": 4,
 "nbformat_minor": 5
}
